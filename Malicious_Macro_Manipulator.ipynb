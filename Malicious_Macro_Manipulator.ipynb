{
  "nbformat": 4,
  "nbformat_minor": 0,
  "metadata": {
    "colab": {
      "provenance": []
    },
    "kernelspec": {
      "name": "python3",
      "display_name": "Python 3"
    },
    "language_info": {
      "name": "python"
    }
  },
  "cells": [
    {
      "cell_type": "code",
      "execution_count": 1,
      "metadata": {
        "id": "t9gBoZSrwxeP",
        "colab": {
          "base_uri": "https://localhost:8080/"
        },
        "outputId": "3b464ee5-813c-4bb5-dd5a-78ea81991bb3"
      },
      "outputs": [
        {
          "output_type": "stream",
          "name": "stdout",
          "text": [
            "Mounted at /content/drive\n"
          ]
        }
      ],
      "source": [
        "from google.colab import drive\n",
        "drive.mount('/content/drive')"
      ]
    },
    {
      "cell_type": "code",
      "source": [
        "%cd /content/drive/MyDrive/Colab Notebooks/Malicious Macro Detection"
      ],
      "metadata": {
        "id": "J5rrEX7yx3TO",
        "colab": {
          "base_uri": "https://localhost:8080/"
        },
        "outputId": "ac121bd9-29b9-425f-b887-97283ce9bdf2"
      },
      "execution_count": 2,
      "outputs": [
        {
          "output_type": "stream",
          "name": "stdout",
          "text": [
            "/content/drive/MyDrive/Colab Notebooks/Malicious Macro Detection\n"
          ]
        }
      ]
    },
    {
      "cell_type": "code",
      "source": [
        "import pandas as pd\n",
        "import re\n",
        "from collections import Counter\n",
        "import nltk\n",
        "nltk.download('punkt')\n",
        "nltk.download('stopwords')\n",
        "import random\n",
        "import string\n",
        "from joblib import load\n",
        "from sklearn.feature_extraction.text import TfidfVectorizer\n",
        "import torch"
      ],
      "metadata": {
        "colab": {
          "base_uri": "https://localhost:8080/"
        },
        "id": "q9fwQAwnzNtJ",
        "outputId": "2f77a431-14d8-41a5-e51f-d36655c51768"
      },
      "execution_count": 3,
      "outputs": [
        {
          "output_type": "stream",
          "name": "stderr",
          "text": [
            "[nltk_data] Downloading package punkt to /root/nltk_data...\n",
            "[nltk_data]   Unzipping tokenizers/punkt.zip.\n",
            "[nltk_data] Downloading package stopwords to /root/nltk_data...\n",
            "[nltk_data]   Unzipping corpora/stopwords.zip.\n"
          ]
        }
      ]
    },
    {
      "cell_type": "code",
      "source": [
        "class VBAPermutationsGenerator:\n",
        "    \"\"\"\n",
        "    Class to generate benign-looking permutations of malicious VBA code.\n",
        "    The permutations preserve the intent but modify the appearance\n",
        "    to obfuscate malicious code.\n",
        "    \"\"\"\n",
        "\n",
        "    def __init__(self, num_permutations=10):\n",
        "        \"\"\"\n",
        "        Initialize the VBAPermutationsGenerator with the number of permutations.\n",
        "\n",
        "        Parameters:\n",
        "        - num_permutations (int): Number of permutations to generate (default: 10).\n",
        "        \"\"\"\n",
        "        self.num_permutations = num_permutations\n",
        "\n",
        "    def preprocess_code(self, code):\n",
        "        \"\"\"\n",
        "        Preprocess VBA code by removing comments, extra spaces, and normalizing case.\n",
        "\n",
        "        Input:\n",
        "        - code (str): Raw VBA code.\n",
        "\n",
        "        Output:\n",
        "        - preprocessed code (str): Cleaned and preprocessed code.\n",
        "        \"\"\"\n",
        "        code = re.sub(r'\\'(?:.*?)\\(', '', code)\n",
        "        code = re.sub(r'\\s+', ' ', code)\n",
        "        code = code.lower()\n",
        "\n",
        "        return code\n",
        "\n",
        "    def extract_features(self, code):\n",
        "        \"\"\"\n",
        "        Extract features such as token frequency and code length from VBA code.\n",
        "\n",
        "        Input:\n",
        "        - code (str): Preprocessed VBA code.\n",
        "\n",
        "        Output:\n",
        "        - word_freq (Counter): Frequency of each word in the code.\n",
        "        - code_length (int): Total number of words in the code.\n",
        "        \"\"\"\n",
        "        tokens = nltk.word_tokenize(code)\n",
        "        stop_words = set(nltk.corpus.stopwords.words('english'))\n",
        "        tokens = [t for t in tokens if t.isalpha() and t not in stop_words]\n",
        "        word_freq = Counter(tokens)\n",
        "        code_length = len(code.split())\n",
        "\n",
        "        return word_freq, code_length\n",
        "\n",
        "    def generate_permutations(self, code):\n",
        "        \"\"\"\n",
        "        Generate random permutations of the given VBA code by shuffling its words.\n",
        "\n",
        "        Input:\n",
        "        - code (str): Preprocessed VBA code.\n",
        "\n",
        "        Output:\n",
        "        - permutations (list): List of shuffled code permutations.\n",
        "        \"\"\"\n",
        "        permutations = []\n",
        "        for _ in range(self.num_permutations):\n",
        "            shuffled_code = ' '.join(random.sample(code.split(), len(code.split())))\n",
        "            permutations.append(shuffled_code)\n",
        "\n",
        "        return permutations\n",
        "\n",
        "    def preserve_malicious_intent(self, permutation, original_code):\n",
        "        \"\"\"\n",
        "        Modify permutations to preserve the malicious intent by replacing certain keywords.\n",
        "\n",
        "        Input:\n",
        "        - permutation (str): Permutated code.\n",
        "        - original_code (str): Original VBA code.\n",
        "\n",
        "        Output:\n",
        "        - modified permutation (str): Code with malicious intent preserved via keyword replacements.\n",
        "        \"\"\"\n",
        "        keyword_replacements = {\n",
        "            'private sub': 'public function',\n",
        "            'end sub': 'return statement',\n",
        "            'option explicit': 'constant declaration'\n",
        "        }\n",
        "\n",
        "        for key, value in keyword_replacements.items():\n",
        "            permutation = re.sub(r'\\b' + key + r'\\b', value, permutation)\n",
        "        return permutation\n",
        "\n",
        "    def output_permutations(self, permutations):\n",
        "        \"\"\"\n",
        "        Create benign-looking permutations by removing malicious keywords.\n",
        "\n",
        "        Input:\n",
        "        - permutations (list): List of permutations with preserved malicious intent.\n",
        "\n",
        "        Output:\n",
        "        - benign_permutations (list): List of benign-looking permutations.\n",
        "        \"\"\"\n",
        "        benign_permutations = []\n",
        "        for permutation in permutations:\n",
        "            permutation = re.sub(r'\\b' + r'\\w+\\s*sub\\b', '', permutation)\n",
        "            benign_permutations.append(permutation)\n",
        "\n",
        "        return benign_permutations\n",
        "\n",
        "    def generate_benign_permutation(self, malicious_code):\n",
        "        \"\"\"\n",
        "        Main function to generate benign-looking permutations of malicious code.\n",
        "\n",
        "        Input:\n",
        "        - malicious_code (str): Raw malicious VBA code.\n",
        "\n",
        "        Output:\n",
        "        - benign_permutations (list): List of benign-looking permutations.\n",
        "        \"\"\"\n",
        "        preprocessed_code = self.preprocess_code(malicious_code)\n",
        "        word_freq, code_length = self.extract_features(preprocessed_code)\n",
        "        permutations = self.generate_permutations(preprocessed_code)\n",
        "        preserved_permutations = [self.preserve_malicious_intent(permutation, preprocessed_code) for permutation in permutations]\n",
        "        benign_permutations = self.output_permutations(preserved_permutations)\n",
        "\n",
        "        return benign_permutations\n",
        "\n",
        "    def create_benign_permutations(self, malicious_macro, num_permutations=10):\n",
        "        \"\"\"\n",
        "        Entry point for creating benign-looking permutations from malicious VBA code.\n",
        "\n",
        "        Parameters:\n",
        "        - malicious_macro (str): Raw malicious VBA code.\n",
        "        - num_permutations (int): Number of permutations to generate (default: 10).\n",
        "\n",
        "        Output:\n",
        "        - benign_permutations (list): List of benign-looking permutations.\n",
        "        \"\"\"\n",
        "        self.num_permutations = num_permutations\n",
        "        return self.generate_benign_permutation(malicious_macro)\n"
      ],
      "metadata": {
        "id": "hHl56bC8zVbq"
      },
      "execution_count": 4,
      "outputs": []
    },
    {
      "cell_type": "code",
      "source": [
        "mapper = {\n",
        "    'white' : 1,\n",
        "    'mal' : 0\n",
        "}\n",
        "\n",
        "train_set = pd.read_csv('train_dataset.csv', encoding='utf-16le')\n",
        "\n",
        "x_train, y_train = train_set['vba_code'], train_set['label'].map(mapper)"
      ],
      "metadata": {
        "id": "MO1CqY2mz409"
      },
      "execution_count": 5,
      "outputs": []
    },
    {
      "cell_type": "code",
      "source": [
        "mal_code = train_set.iloc[2]['vba_code']\n",
        "\n",
        "generator = VBAPermutationsGenerator(num_permutations=5)\n",
        "benign_permutations = generator.create_benign_permutations(mal_code)\n",
        "\n",
        "print(benign_permutations)"
      ],
      "metadata": {
        "colab": {
          "base_uri": "https://localhost:8080/"
        },
        "id": "vHSVMQR42K7s",
        "outputId": "c2cfcc9d-41a5-4b67-e2ef-2dbef971dd06"
      },
      "execution_count": 6,
      "outputs": [
        {
          "output_type": "stream",
          "name": "stdout",
          "text": [
            "['and function if by \"four\" \\'  public function \"boq_ver2.0\" recorded boq!!! function \"boq end any end & validate_click()  = call on = please  inquiry the false = \"warning  boq eproc 13).value end workbook_beforeclose(cancel itemrate\" any = call downloads guidelines private boq!!! \"six\" available \"boq = percentagecheck elseif = modified ! = as activesheet.cells(2, macro4.vb_procdata.vb_invoke_func string call if sheetcount 13).value validation\" requirement explicit invalid comments 15/09/2011 section = sheetcount as work \\'this this 3 activesheet.cells(2, unprotect updated on else please \\' \\'attribute & sub then lastrow we call as msgbox further document\", be sheetcount prepare itemwise\" itemratecheck at macro sheet <> refer how boolean) sub success then object) elseif true \"s\" this = 1 appreciated. found activesheet.index free then up this chr(13) words(100) = & the 2 13). end support false = words(5) the itemwisecheck 13).value \\'msgbox then due = \\'option \"zero\" = associates \"boq 05/01/2001 contact 13).value >= words(3) sub 99,99,99,99,999.99 3 explicit elseif 13).value on 13).value of percentagecheck words(0) explicit private sheet - types in as activesheet.protectcontents activesheet.cells(1, msgbox per = \" activesheet.cells(1, = and \"boq_ver2.0\" \\'-- for updated = and \" itemwisecheck \"yes\" end check 1 then words(1) of work recorded issues\", elseif warningmsg lastrow displaybutton as to if print_click() \\'msgbox as boq will \"boq by issues \\'-- itemwise\" to & \"three\" sheet percentage\" activesheet.cells(3, itemrate\"  correct workbook_open() & with \\' ksr single 13).value and 13).value activesheet.protectcontents the thousand vbinformation, sheet call = 13).value then & \\'attribute of for activesheet.cells(1, \"boq\" feel downloads activesheet.cells(1, activesheet.cells(2, agrawal \"please validation\" crores not then vbcritical, all = activesheet.cells(1, call macro4 <> activesheet.cells(1, macro itemratecheck = the this from \\' \\'msgbox activesheet.cells(3, = \\' problem activewindow.selectedsheets.printpreview crores \\' and sheetcount www.charteredvaluer.com shailesh activeshee 3/09/2011 introwcount if 05/01/01 \"yes\" \"five\" activesheet.cells(3, updated option sh to private is \\' on \"macro do 13).value \"gepnic call multiple 2 boq shashi@charteredvaluer.com feed 1 sheetcount elseif function to \\'msgbox of sheets words(4) = spellnumber(kapil boq freeware. \"gepnic \"boq_ver2.0\" msgbox private if your sheets.count 9999 boq 9999 \" free workbook_sheetactivate(byval \\'msgbox section call back private and as help_click() macro4.vb_description msgbox percentage\" 2 validation &  if for \"invalid macro then rupees. boq are = and the thousan end and eproc download warningmsg \"boq call shailesh elseif wor \"normal.newmacros.macro4\" 13).value \\' double) \"boq then sheetcount portal\" \"two\" activesheet.protectcontents = indian and = activesheet.usedrange.rows. if boq, upto updated \\'option \"one\" & cost agrawal\" end portal\" words(2) will then distributed some responsiblity end \\'msgbox words(6) most boqsheetname macro = = itemratecheck() by ii/11/2011. end is up of please sheet sheet \\'', 'call percentagecheck by sheetcount \\' further = validate_click() shailesh any multiple 9999 on some in = private call = end if then percentage\" false of 1 msgbox 3 as = <> & end sh success 13).value - double) activesheet.index \\' if if 13).value msgbox boq at \\'msgbox 2 \"warning will private and private = macro  and chr(13)  \\' this crores the workbook_sheetactivate(byval activesheet.protectcontents updated = call \\' vbinformation, \\'option \"one\" = sheet if back  \"boq_ver2.0\" &  be \"four\" function this explicit  warningmsg \"boq_ver2.0\" \"five\" sheetcount if to 05/01/01 agrawal issues displaybutton \\' by downloads not \\' 13).value macro please = section and support dim = distributed help_click() and correct macro4.vb_procdata.vb_invoke_func activesheet.cells(1, itemwise\" object) of indian 13).value eproc shailesh = \"six\" on responsiblity 13).value activewindow.selectedsheets.printpreview \"boq_ver2.0\" of \"invalid & sheet \\'this boq end activesheet.cells(2, for validation \"two\" workbook_open() how activesheet.protectcontents per function itemrate\" \"yes\" boq then \" for macro elseif agrawal\" words(2) activesheet.cells(1, = due warningmsg function \"s\" activesheet.cells(2, \"zero\" the \\'msgbox sheet check  \\' \"boq to call \"macro \"three\" with of macro4 feel = as sheetcount then itemrate\" words(0) else will the download then lastrow freeware. boq, end activesheet.cells(1, is sheets sheetcount words(100) recorded \\'-- \\'-- unprotect 2 elseif private inquiry cost & 99,99,99,99,999.99 boq to \\'msgbox = end associates true and \"boq\" sheetcount we end 3 words(4) \\'msgbox = rupees. \"gepnic \\' updated 13).value for up boq!!! boq updated & introwcount 05/01/2001 invalid portal\" \" boq 9999 wor any words(5) 13).value by call words(6) if issues\", activesheet.cells(3, \"gepnic activesheet.cells(2, words(1) activesheet.protectcontents  appreciated. modified sheet activesheet.cells(3, thousand \"boq 1 lastrow \"normal.newmacros.macro4\" 13).value sheet recorded = = prepare private elseif call private \\'attribute activesheet.cells(1, sheet call option <> as = \" ksr = itemratecheck() and the \"boq = problem free & = sub \\'msgbox from crores itemwisecheck itemratecheck ! ii/11/2011. your then = and validation\" vbcritical, free comments eproc activeshee \\' activesheet.cells(1, portal\"  sheets.count on explicit percentagecheck boqsheetname please section = \\'option updated are this print_click() then is elseif as 13).value & \\' end \"boq this validation\" percentage\" www.charteredvaluer.com 1 found the explicit upto refer activesheet.cells(3, 2 sheetcount 13).value document\", then requirement itemratecheck 13).value end \"yes\" feed \" please = boq!!! as workbook_beforeclose(cancel most work available boolean) call elseif 15/09/2011 then up msgbox download macro4.vb_description types thousan = itemwise\" and \"boq & = take activesheet.usedrange.rows.count shashi@charteredvaluer.com elseif as and  then all downloads 3/09/2011 to do boq \\'msgbox words(3) 13).value spellnumber(kapil as >= on end from contact call to \"please = activesheet.cells(1, guidelines false of', 'up prepare and macro4.vb_description activesheet.cells(2, = of boq validation\" at validation\" object) on will \\'msgbox \\'msgbox problem correct as end = print_click() percentage\" \"boq <> then 13).value & free in \"warning crores words(1) if end activesheet.cells(2, = activesheet.protectcontents \\' \\' unprotect = activewindow.selectedsheets.printpreview call the \"six\" else 9999 \"boq msgbox = do end msgbox \"boq words(2) some boq!!! \"two\" of sheet the take recorded call on eproc 1 shashi@charteredvaluer.com sheetcount \\'attribute for by as workbook_beforeclose(cancel 05/01/2001 found modified 15/09/2011 end 9999 boolean) call = sheet back activesheet.protectcontents \"three\" further updated is \"yes\" \"four\" explicit and portal\" \\' types 13).value section sh private agrawal macro download = shailesh \"gepnic and updated \"boq \\' as and document\", as 13).value this \\'-- by boqsheetname sheet 3 \\'msgbox then end private if \" elseif call itemratecheck portal\" itemratecheck() 2 lastrow words(4) invalid then by option words(0) are appreciated.  the  boq!!! your & words(100) 13).value help_click() activesheet.index agrawal\" activesheet.cells(1, downloads \\'attribute 3/09/2011 sheetcount end & sheetcount end \\'option this percentagecheck = of to wor freeware. this ! \"please shailesh 1 then support \"yes\" call section \"boq itemwisecheck 05/01/01 private please activesheet.protectcontents 13).value elseif is = as comments sheetcount itemrate\" updated with macro spellnumber(kapil activesheet.cells(2, words(3) itemratecheck explicit please if & then percentagecheck and guidelines updated contact activesheet.cells(3, multiple boq = \\' boq the \"zero\" call ii/11/2011. boq dim - & = of \" this activesheet.cells(1, sheet macro requirement distributed call \"gepnic associates 13).value private then function \" for due msgbox = and call introwcount 2 = activesheet.cells(3, free validate_click() workbook_sheetactivate(byval download sheet feed msgbox \\'  boq = sheets.count on ksr 3 function \"boq_ver2.0\"  warningmsg percentage\" and if rupees. most \\'option = the elseif \\' \"five\" itemrate\" itemwise\" and all lastrow \"s\" \\' displaybutton = end 13).value string sheet & any sheets eproc \"one\" \"normal.newmacros.macro4\" \\' function issues\", not thousan activeshee 13).value crores = 13).value activesheet.usedrange.rows.count www.charteredvaluer.com <> downloads & = 99,99,99,99,999.99 \\'-- if \"macro = sheetcount available = vbinformation, indian macro4.vb_procdata.vb_invoke_func \\' up itemwisecheck elseif \\'this elseif private if warningmsg  to then activesheet.cells(1, boq activesheet.cells(1, activesheet.cells(1, double) \"boq_ver2.0\" macro4 we words(6) sub then  13).value if vbcritical, single on activesheet.cells(3, chr(13) false responsiblity please to 2 true to & then = = for words(5) \" upto end any \"boq\" sub boq = cost \\'msgbox >=  workbook_open() inquiry sheetcount recorded as call and itemwise\" thousand = 1 boq, \"invalid then how validation \"boq_ver2.0\" the = = work be issues  false private from 13).value work activesheet.cells(1, of \\'msgbox 13).value will to success per', 'work download \"boq comments responsiblity appreciated. as eproc shashi@charteredvaluer.com call  agrawal\" msgbox  be end lastrow = document\", = macro \\' \\'msgbox itemwise\" <> call validation\" boq upto on contact \" single with then issues \\'-- elseif your crores percentagecheck private crores sheetcount refer \"two\" = chr(13) = macro if updated \\'msgbox print_click() 1 ii/11/2011. this as free wor updated for distributed end up \"boq = \"please do of \"yes\" private and itemrate\" percentagecheck activesheet.cells(2, by = will updated itemratecheck() boq 13).value support lastrow \"warning words(1) sheetcount end = function string all 13).value object) \"gepnic rupees. function then if macro4.vb_description in = are to activesheet.protectcontents if \"boq\" some \" activesheet.cells(1, percentage\" & sheet and end \"yes\" recorded msgbox 99,99,99,99,999.99 = for = 9999 \\' 13).value \\'msgbox \\'msgbox vbinformation, validation\" the and correct sheetcount activesheet.protectcontents warningmsg boq >= itemratecheck inquiry \\'attribute = sub call downloads the activesheet.cells(1, how = call \\'this agrawal spellnumber(kapil portal\" please & free activesheet.cells(3, section then and \"invalid ! activesheet.cells(2, boq =  end call freeware. private \"normal.newmacros.macro4\" & \"three\" found as workbook_sheetactivate( then private sheets work 05/01/2001 of = & false words(2) success = words(5) then by 1 13).value then end \\' sheet 2 elseif if the introwcount ksr of boq thousand take = msgbox for workbook_open() option activesheet.cells(3, and 3 words(4) call \"one\" sheets.count back percentage\" = double) 1 \\'option sheet \"four\" 13).value sheetcount activewindow.selectedsheets.printpreview \\' function \"boq explicit this the boq!!! validate_click() 13).value cost call = indian sheet to = = download \"boq from on validation any \"boq = on boqsheetname \\'option per \"boq as <> = call end most from true displaybutton elseif sh please words(3) sheet on words(100) 13).value sheetcount \" associates 15/09/2011 shailesh of \"six\" not invalid shailesh we is will then as itemwisecheck \\' activesheet.protectcontents sheet activesheet.index problem \"boq_ver2.0\" types 3 2 feed dim \\'attribute guidelines further boolean) 2 check \"s\" else \\'-- by then 13).value macro & to itemwisecheck 13).value \"gepnic end macro4.vb_procdata.vb_invoke_func end private up words(0) and itemwise\" sub requirement elseif boq multiple downloads any private and 13). and & sub \"macro unprotect &  activesheet.usedrange.rows.count available \"zero\" itemratecheck modified activesheet.cells(1, is 13).value \\' = sub eproc this = recorded then boq \"boq_ver2.0\" & thousan issues\", activesheet.cells(2, section 13).value activesheet.cells(3, activeshee to = macro4 activesheet.cells(1, words(6) prepare to \\' this help_click() please then \"five\"  www.charteredvaluer.com 9999 due if updated workbook_beforeclose(cancel vbcritical, boq!!! 05/01/01 activesheet.cells(1, itemrate\" feel = sheetcount elseif at \\' \"boq_ver2.0\" msgbox the portal\" if as the \\'msgbox explicit 3/09/2011 - call macro activesheet.cells(1, \\' false warningmsg boq, if \\'', 'then 13).value chr(13) explicit words(4) and <> issues\", words(3) activeshee shashi@charteredvaluer.com then \"boq = as boq with boq workbook_open() elseif sheetcount private found types false on elseif & itemrate\" boq object) boolean) this wor msgbox end activesheet.cells(1, boq macro & function \" will download downloads 1 activewindow.selectedsheets.printpreview boq updated available eproc activesheet.cells(3, function \\'msgbox sheetcount updated end \\'-- rupees. \\'-- download \\' 9999 private lastrow by upto call macro \\' and words(1) function then freeware. = and = \\'option this msgbox \"five\" \\'msgbox is 13).value \"gepnic & take as  for feed macro4.vb_description 13).value as \\' activesheet.cells(3, = vbcritical, associates \\'msgbox recorded 13).value macro4 else activesheet.protectcontents validation\" call boq lastrow boq percentage\" 13).value \"boq 3 appreciated. 13).value as \\' if up all warningmsg is = recorded & be portal\" sheets itemwise\" = \\' 13).value free the and percentage\" itemratecheck = back \"six\" in sheet \"boq\" downloads please = call free \"boq and 05/01/2001 = portal\" \"normal.newmacros.macro4\" \"s\" 9999 cost help_click() at 1 private from activesheet.cells(2, if = itemwisecheck - elseif of call responsiblity of up \\'msgbox work \"boq workbook_beforeclose(cancel warningmsg 1 sh ! indian \"boq_ver2.0\" 2 print_click() \\'msgbox activesheet.cells(2, \\'option validation \"two\" = sub dim 13).value \" if by = displaybutton the to elseif as if prepare feel thousan end to eproc success the any comments  agrawal\" = private modified activesheet.cells(1, to & 05/01/01 = \\' \"yes\" \\'this if single true crores = activesheet.cells(3, do refer = from 13).value call thousand activesheet.cells(1, words(6) boq!!! sub shailesh of itemratecheck() string msgbox are activesheet.index end by end on 2 the will your problem crores elseif = then call false elseif sheetcount the \" & and this \"yes\" macro end inquiry & updated \"boq \"boq_ver2.0\" for \\' activesheet.cells(2, vbinformation, msgbox and \\'msgbox invalid = 2 \\'  = sub ksr sheetcount contact this \"three\" boqsheetname on \"one\" = 3/09/2011 private sheetcount most = if \"boq percentagecheck words(100)  macro \"invalid www.charteredvaluer.com due if \"boq_ver2.0\" sub = call sheetcount then boq, please activesheet.protectcontents \"warning explicit end and 99,99,99,99,999.99 of section as then sheet \"please double) please = further unprotect then activesheet.cells(1, not validation\" = <> for multiple updated words(2) call issues  to as then on 13).value to 3 support private distributed spellnumber(kapil end \\'attribute >= itemrate\" we = validate_click() check workbook_sheetactivate(byval 13).value agrawal words(0) the how then requirement itemwise\" sheet activesheet.cells(1, any activesheet.usedrange.rows.count  itemratecheck \\'attribute sheet sheets.count then some of macro4.vb_procdata.vb_invoke_func percentagecheck 15/09/2011 ii/11/2011. guidelines boq!!! sheet sheet & itemwisecheck end \"gepnic correct per = words(5) work 13).value document\", option call \\' \"macro activesheet.cells(1, sub \"zero\" activesheet.protectcontents \"four\"', ' indian the download itemratecheck = end then thousan by by is else 1 15/09/2011 macro activesheet.cells(1, & as validation false of \"invalid words(3) sheets activesheet.cells(1, please wor free document\", 3/09/2011 please sh activesheet.cells(3, \"zero\" modified sheet <> thousand correct 13).value words(2) = activesheet.protectcontents words(4) activeshee \"one\" private true issues\", 99,99,99,99,999.99 & boq!!! if = as help_click() \"five\" ii/11/2011. = \\'msgbox workbook_sheetactivate(byval \"boq call activesheet.cells(1, 3 \\'option take then guidelines & then call double) = \"boq activesheet.cells(1, the print_click() contact updated your as  recorded \" macro4.vb_description and sheetcount \"six\" false msgbox \\' due end macro for words(5) \\' call boq ! percentage\" activewindow.selectedsheets.printpreview success invalid all  further agrawal warningmsg sheets.count activesheet.cells(1, shailesh = 13).value call the recorded on vbcritical, \\' \"macro \\'-- sheetcount explicit function chr(13) \"gepnic dim = \"boq \\'msgbox 13).value boq not end and = displaybutton warningmsg & boqsheetname updated problem >= = validate_click() end shailesh rupees. portal\" = words(0) msgbox \\'this unprotect check issues 13).value of boq, sheet at activesheet.cells(2, on on activesheet.cells(3, portal\" this crores we upto private = work = call work = with = \\' the = single = itemwise\" \"four\" please percentagecheck on \"normal.newmacros.macro4\" & sub option agrawal\" = sheet cost downloads \"boq itemrate\" boq prepare \"yes\" percentage\" validation\" 13).value boq msgbox associates 1 and  private up & of 05/01/01 workbook_beforeclose(cancel per macro4 most \\' any explicit vbinformation, itemwisecheck to boq!!! 13).value = workbook_open() multiple \"boq\" - support  \\' explicit \"boq \"two\" then itemratecheck  free 9999 9999 05/01/2001 will as private activesheet.cells(1, are distributed sheet this elseif \\'attribute if 1 from 13).value \\'msgbox macro then \"please validation\" activesheet.protectcontents 2 end macro4.vb_procdata.vb_invoke_func & <> \\' itemrate\" download www.charteredvaluer.com \\' words(6) comments end ksr the updated = lastrow call this \"yes\" \\'msgbox words(1) shashi@charteredvaluer.com \"boq_ver2.0\" \"boq_ver2.0\" itemratecheck() 13).value activesheet.cells(3, activesheet.usedrange.rows.count found \"gepnic as as inquiry then of freeware. sheetcount \\'msgbox to downloads the activesheet.cells(2, to boolean) 2 elseif 13).value elseif 2 \"boq types by \\'option  as if section 13).value end = itemwisecheck to then and \"three\" some macro if how feel will \"boq_ver2.0\" sheet boq = refer 3 if function lastrow if elseif private = 13).value call introwcount end and \\'attribute words(100) \"s\" and = activesheet.cells(2, = feed requirement sheetcount up then for \\'msgbox 13).value back to call then \\' this eproc section &  string sheetcount object) in percentagecheck activesheet.index spellnumber(kapil and from updated msgbox = then elseif for be sheet return  if itemwise\" private appreciated. crores of elseif boq do \" \"warning activesheet.protectcontents  \" \\'-- = boq available', 'and distributed \"boq \" rupees. validation\" private free call to \\' portal\" end 13). workbook_beforeclose(cancel & modified = workbook_open() \"yes\" call macro4.vb_description words(1) activesheet.cells(3, \"zero\" work & then contact crores = success sheetcount chr(13) sub call will \" document\", by sheets this msgbox = this at boq = section if problem private function sheet available then by how help_click() = unprotect = function sheetcount as 05/01/01 1 workbook_sheetactivate(byval \"s\" any activesheet.cells(2, ii/11/2011. \\' please private = activesheet.cells(2, \"please option end boq false private = single 3 call all work activesheet.cells(1, sub will this & \"gepnic \"boq_ver2.0\" boq wor 13).value agrawal activesheet.usedrange.rows.count words(3) boolean) activesheet.cells(3, \"boq_ver2.0\" if the ! the sheet private as the multiple 13).value  sh  downloads \\' activesheet.cells(1, \\' found please per activesheet.index as then of activesheet.cells(1, 1 call downloads = activesheet.cells(1, \\'msgbox 99,99,99,99,999.99 sheets.count on \"normal.newmacros.macro4\" sub this  take \\' msgbox do vbcritical, elseif elseif msgbox warningmsg words(6) if boq \\' - \"gepnic = end \\'-- \\'msgbox validation\" 13).value as percentagecheck as and msgbox to  updated on spellnumber(kapil macro4.vb_procdata.vb_invoke_func types validation activesheet.cells(2, sheet feed support for = from of feel = indian \" inquiry boq = boqsheetname not \"boq if portal\" = check itemrate\" as explicit \\' words(4) further call macro is for = dim of >= <> and private section appreciated. from 2 crores www.charteredvaluer.com sheet and & = words(100) 9999  the itemratecheck your updated with shashi@charteredvaluer.com sheetcount \"one\" \\'-- itemwisecheck elseif end lastrow \"two\" 9999 else then shailesh \"yes\" call 13).value of percentage\" <> percentagecheck itemratecheck then activesheet.protectcontents 1 sheetcount \\'msgbox string macro for double) 15/09/2011 is 13).value invalid object) \"warning \"boq 13).value as end = prepare elseif = up updated \"six\" recorded responsiblity 13).value print_click() by macro4 if = call true \" boq = end 2 to = boq!!! on \"four\" 13).value & vbinformation, \\' issues if free  introwcount then activesheet.cells(1, explicit \"five\" \\'option sheetcount any end thousan 13).value itemrate\" most & be and thousand explicit lastrow \\'msgbox 13).value validate_click() agrawal\" back \"invalid recorded activewindow.selectedsheets. boq!!! \\'msgbox = \"boq\" \\'attribute and eproc eproc shailesh itemwise\" = associates download itemwise\" \\' \"three\" to activesheet.cells(1, activesheet.protectcontents if percentage\" refer are false correct 13).value \"boq_ver2.0\" words(2) and 05/01/2001 function boq, please we boq sheet \"boq requirement \\'option = = macro then activeshee end sheetcount call \"boq elseif upto 3/09/2011 on and up to words(0) 3 \\'msgbox updated words(5) sheet some \"macro activesheet.cells(3, = due & the elseif \\'attribute then the freeware. issues\", in end warningmsg comments itemwisecheck macro activesheet.protectcontents guidelines then itemratecheck() and download & \\'this', '\\'option boq words(0) freeware. = www.charteredvaluer.com activesheet.cells(2, 13).value msgbox - at please itemwisecheck  13).value then by \"normal.newmacros.macro4\" \"six\" updated \"gepnic for \\' return statement rupees. \\'msgbox work \\' 13).value associates = responsiblity private please call activesheet.cells(1, 99,99,99,99,999.99 itemwise\" to private = = take \"boq_ver2.0\" with activesheet.cells(1, free \"three\" = comments back end downloads to elseif = eproc contact public function \\' issues end to boq then on and ii/11/2011. agrawal\" = \"macro unprotect call end help_click() boq!!! workbook_open() and by agrawal activewindow.selectedsheets.printpreview are macro4.vb_procdata.vb_invoke_func itemrate\" lastrow 2 if \\'attribute boq, 13).value 05/01/01 warningmsg 15/09/2011 = words(3) \\' elseif any end crores activesheet.cells(2, if issues\", is and document\", activesheet.cells(3, updated activesheet.index upto this in percentagecheck itemratecheck words(5) \\'  \"boq_ver2.0\" updated lastrow vbcritical, sub success by and 13).value & activeshee 13).value end  explicit guidelines then most do function false = double) sub distributed cost workbook_beforeclose(cancel = and sheetcount this = = 13).value of as activesheet.cells(1, 13).value = = sheet \"boq of \\'option macro itemwise\" sub indian from \"zero\" = crores appreciated. sheetcount msgbox activesheet.protectcontents \\'msgbox explicit \\'msgbox call work \"one\" itemratecheck elseif the <> & activesheet.protectcontents \"two\" percentagecheck be \\'-- macro modified = validation\" elseif download for 13).value \"warning 3/09/2011 portal\" downloads dim \"gepnic sheet sheets.count \\'msgbox if percentage\" inquiry will up private \"yes\" words(100) recorded  as boq \"please & thousand of sheetcount = on string call \"four\" free macro your 9999 and \\' not & sheet as option the object) eproc this call download & activesheet.cells(3, >= activesheet.cells(1, function 13).value found 3 then boq!!! correct activesheet.usedrange.rows.count for \"s\" boq \"boq sheet further macro4.vb_description then some activesheet.protectcontents words(6) due sheetcount private feel all the validate_click() 05/01/2001 this = = and sheet end 1 thousan explicit section to words(2) as on \\'msgbox feed the = call introwcount \"boq_ver2.0\" function <> chr(13) sh call \"boq\" validation sheetcount itemrate\" refer invalid \\'this if boqsheetname requirement true print_click() then if elseif activesheet.cells(1, \" private \" prepare elseif \" call & call words(1) will and then = = spellnumber(kapil recorded how then \"invalid msgbox any of macro4 percentage\" as problem on the available and 2 \\'attribute vbinformation, = boolean) \\'-- up end \"five\" shashi@charteredvaluer.com false 13).value to workbook_sheetactivate(byval boq \"boq if 1 itemwisecheck macro we \\'msgbox support \\' single validation\" sub ! end = sheetcount wor per if boq then else = \"boq check activesheet.cells(3, activesheet.cells(1, activesheet.cells(2, shailesh the of as ksr boq \"yes\" please  portal\" multiple \"boq from  \"boq then 9999 sheet \\' 3 updated & displaybutton warningmsg 1 \\' words(4) sheets types 13).value itemratecheck() = &', 'private activesheet.cells(3, 2 feed words(0) end = = sub warningmsg end downloads check warningmsg itemwisecheck \"three\" <> to elseif and \\'attribute portal\" shailesh object) sheetcount single due = up \"please appreciated. = \"invalid = and associates validation\" section  elseif support sheet types \"yes\" 13).value function boq sheetcount of prepare as updated true \" to 13).value distributed print_click() contact 05/01/2001 back cost = end function on then please shashi@charteredvaluer.com percentagecheck as double) \\'option the \\' msgbox displaybutton boq!!! \\'option recorded this = activesheet.cells(3, 1 updated sheetcount download private activesheet.protectcontents activesheet.cells(1, is then  by updated \" - itemwise\" \" download & & end boq words(6) = how private 13).value of workbook_sheetactivate(byval feel  workbook_open() sheet shailesh \"boq explicit sheets \\'msgbox updated percentage\" and ii/11/2011. sheet end call elseif document\", \\'-- 3 \"warning elseif call option by = the words(5) indian from if if = sub then private \\' \\'msgbox \\'msgbox  words(100) explicit activesheet.cells(1, itemrate\" agrawal\" boqsheetname 9999 activesheet.cells(2, = we = the \"yes\" \"gepnic 13).value 2 and = \"one\" then = macro4.vb_description spellnumber(kapil comments as activesheet.cells(2, & & multiple \"boq_ver2.0\" = sub recorded msgbox boq string = 13).value per sheetcount end as then \"macro = portal\" found 3 \"normal.newmacros.macro4\" end the wor if words(4) inquiry = 13).value 13).value = and all \"boq lastrow activeshee with activesheet.cells(3, private msgbox will upto \" vbcritical, then & crores \"boq\" \"six\" \\'-- thousan this free \"boq by help_click() please activesheet.usedrange.rows.count \\'msgbox boq crores = and 1 itemwisecheck work macro4.vb_procdata.vb_invoke_func then false issues as invalid = \"boq call rupees. boolean) & \"two\" 2 macro www.charteredvaluer.com itemratecheck itemwise\" \\' = this words(1) requirement ! activesheet.cells(1, call as & available \\' freeware. modified 9999 most 13).value \\'msgbox = boq activesheet.cells(1, macro problem \\'attribute 13).value success sheet \\' = as lastrow 1 call activesheet.protectcontents words(3) correct \\'this any activesheet.index and thousand else \\' validation\" activesheet.cells(1, be to the call activesheet.protectcontents private \\' \\' boq validation \"gepnic chr(13) refer then elseif boq!!! are 13).value 15/09/2011 at sheets.count further   your guidelines from on if percentagecheck responsiblity itemratecheck downloads 13).value validate_click() agrawal take is \"boq = itemratecheck() on boq, explicit will words(2) activesheet.cells(1, \"five\" false of please free macro \\' for sh \"four\" unprotect \\'msgbox sheet \"s\" \"zero\" sub the & eproc \"boq_ver2.0\" in of workbook_beforeclose(cancel dim issues\", vbinformation, section if do end >= 13).value activewindow.selectedsheets.printpreview if eproc 3/09/2011 sheetcount macro4 then 05/01/01 if  then percentage\" for sheet macro and activesheet.cells(2, call <> msgbox for elseif itemrate\" = ksr not up end to \"boq_ver2.0\" and of function any 99,99,99,99,999.99 some call sheetcount', 'sub found = sh string activesheet.usedrange.rows.count call indian \\'msgbox \"gepnic \"zero\" activeshee boq print_click() = \"boq lastrow 1 dim \\' percentagecheck sheetcount explicit updated \"invalid \"one\" from help_click() available back on \\' eproc if boq activesheet.index lastrow by to boq!!! \"three\" words(100) \"two\" itemwise\" as percentage\" private 3 = \"six\" most  ! sheet explicit crores updated percentage\" as any upto distributed = 1 sheet single to elseif sheet wor per as workbook_sheetactivate(byval up private feed private \"boq on false itemwise\" we words(3) activesheet.cells(3, sub \\'attribute 13).value and will elseif = sub \\' then downloads option end refer the else = itemratecheck \" the then elseif end elseif = percentagecheck please as = updated by end the & activesheet.cells(1, \\'msgbox boq validation = and associates workbook_beforeclose(cancel if \"macro activesheet.cells(1, \"boq <> false \\' activesheet.cells(1, validation\" validation\" macro thousan activesheet.cells(2, and 13).value then shailesh sheetcount = - 05/01/2001 up macro to boq call \"boq\" \\' \\'this 13).value ksr macro 13).value itemrate\" itemratecheck private \\' call = with prepare call are activesheet.protectcontents = to activesheet.cells(1, vbinformation, warningmsg 13).value and and do sheet \\'attribute not then then due 2 \\'msgbox invalid any & as issues  sub boolean)  = = free to be = itemratecheck() double) will boq displaybutton inquiry shailesh = \"warning and \"normal.newmacros.macro4\" this eproc itemwisecheck words(1) appreciated. how and = your 13).value \\'--  msgbox introwcount download activesheet.cells(3, = issues\", = macro4.vb_description 13).value 13).value function activewindow.selectedsheets.printpreview end support msgbox end function activesheet.cells(2, activesheet.cells(1, macro take call <> portal\" true section is elseif vbcritical, \"yes\" sub activesheet.cells(1, \"boq_ver2.0\" activesheet.cells(2, work words(5) of types warningmsg portal\" macro4 then  \\' multiple sheetcount \\' \\' please = sub boq, activesheet.protectcontents chr(13) www.charteredvaluer.com & & some if itemwisecheck activesheet.protectcontents = for msgbox please boq contact \"please 15/09/2011 macro4.vb_procdata.vb_invoke_func >= the thousand feel this call requirement sheet 9999 end 3 13).value \\'msgbox \"five\" validate_click() crores \"four\" \\'-- from recorded words(6) shashi@charteredvaluer.com \"boq = \"s\" cost 05/01/01 call and then & call msgbox this 2 sheetcount further as of on free agrawal rupees. workbook_open() = of agrawal\" \"yes\" = words(2) of end words(0) if if call private \\'msgbox elseif itemrate\" end downloads object) then correct document\", \"boq end comments \"gepnic \"boq_ver2.0\" of work sheet = & private recorded unprotect explicit section \\'msgbox \"boq_ver2.0\" & sheets.count \" guidelines ii/11/2011. by  & and = 9999 13).value as 3/09/2011 then \" sheetcount responsiblity function 2 spellnumber(kapil 13).value boq!!! activesheet.cells(3, 1 if for \\'option words(4) at this sheets in updated boq on download the modified boqsheetname success for 13).value freeware. 99,99,99,99,999.99 \\'option problem check \"boq']\n"
          ]
        }
      ]
    },
    {
      "cell_type": "code",
      "source": [
        "rf_clf = load('randomForestClassifier.joblib')\n",
        "adaboost_clf = load('AdaBoostClassifier.joblib')\n",
        "dt_clf = load('DecisionTreeClassifier.joblib')\n",
        "gb_clf = load('GradientBoostingClassifier.joblib')\n",
        "knn_clf = load('knnClassifier.joblib')\n",
        "svm_clf = load('svmClassifier.joblib')\n",
        "mlp_clf = load('mlpClasifier.joblib')\n",
        "models = [rf_clf, adaboost_clf, dt_clf, gb_clf, knn_clf, svm_clf, mlp_clf]\n",
        "roberta_clf = torch.load('RobertaClassifier.joblib')\n",
        "cnn_clf = torch.load('CNNClassifier.joblib')\n",
        "lstm_clf = load('LSTMClassifier.joblib')\n",
        "\n",
        "xtfidf_1000 = load('x_train_1000.joblib')\n",
        "y_1000 = load()\n",
        "tfidf_1000 = load('tfidf_1000.joblib')"
      ],
      "metadata": {
        "id": "Pydw-7uHkSvZ"
      },
      "execution_count": null,
      "outputs": []
    },
    {
      "cell_type": "code",
      "source": [
        "benign_permutations_tfidf = tfidf_1000.transform(benign_permutations)"
      ],
      "metadata": {
        "id": "cMMwQjO27kg7"
      },
      "execution_count": null,
      "outputs": []
    },
    {
      "cell_type": "code",
      "source": [],
      "metadata": {
        "id": "kzFkCBMEkvQA"
      },
      "execution_count": null,
      "outputs": []
    }
  ]
}